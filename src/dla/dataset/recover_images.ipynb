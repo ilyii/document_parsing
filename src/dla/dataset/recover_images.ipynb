{
 "cells": [
  {
   "cell_type": "code",
   "execution_count": 28,
   "metadata": {},
   "outputs": [],
   "source": [
    "import os\n",
    "import shutil\n",
    "from pathlib import Path\n",
    "\n",
    "path_imagelist = r\"X:\\doc_layout_analysis\\D4LA\\images.txt\"\n",
    "search_dir = r\"X:\\doc_layout_analysis\\bddla\\images\"\n",
    "dst_dir = r\"X:\\doc_layout_analysis\\D4LA\\images\""
   ]
  },
  {
   "cell_type": "code",
   "execution_count": 29,
   "metadata": {},
   "outputs": [
    {
     "name": "stdout",
     "output_type": "stream",
     "text": [
      "From 11092 images, 11092 were recovered.\n"
     ]
    }
   ],
   "source": [
    "def get_images(r):\n",
    "    for root, dirs, files in os.walk(r):\n",
    "        for file in files:\n",
    "            if file.endswith((\".jpg\", \".jpeg\", \".png\")):\n",
    "                yield os.path.join(root, file)\n",
    "\n",
    "\n",
    "def recover_images(imagenames1, imagenames2):\n",
    "    common_names = imagenames1 & imagenames2\n",
    "    for name in common_names:\n",
    "        shutil.copyfile(os.path.join(search_dir, name), os.path.join(dst_dir, name))\n",
    "\n",
    "imagenames = {Path(imgp.strip()).name.lower() for imgp in open(path_imagelist).readlines()}\n",
    "src_names = {Path(img).name.lower() for img in get_images(search_dir)}\n",
    "recover_images(imagenames, src_names)\n",
    "print(f\"From {len(imagenames)} images, {len(os.listdir(dst_dir))} were recovered.\")"
   ]
  }
 ],
 "metadata": {
  "kernelspec": {
   "display_name": ".venv",
   "language": "python",
   "name": "python3"
  },
  "language_info": {
   "codemirror_mode": {
    "name": "ipython",
    "version": 3
   },
   "file_extension": ".py",
   "mimetype": "text/x-python",
   "name": "python",
   "nbconvert_exporter": "python",
   "pygments_lexer": "ipython3",
   "version": "3.11.9"
  }
 },
 "nbformat": 4,
 "nbformat_minor": 2
}
