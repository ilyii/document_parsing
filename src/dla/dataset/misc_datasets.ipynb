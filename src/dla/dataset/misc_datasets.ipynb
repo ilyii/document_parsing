{
 "cells": [
  {
   "cell_type": "code",
   "execution_count": 17,
   "metadata": {},
   "outputs": [],
   "source": [
    "import os\n",
    "from collections import defaultdict"
   ]
  },
  {
   "cell_type": "code",
   "execution_count": 18,
   "metadata": {},
   "outputs": [],
   "source": [
    "import fileinput\n",
    "\n",
    "def change_labels_misc(labellist):\n",
    "    # Process files in-place to reduce memory usage and improve runtime\n",
    "    for labelfile in labellist:\n",
    "        with fileinput.input(labelfile, inplace=True) as f:\n",
    "            for line in f:\n",
    "                parts = line.split()\n",
    "                if parts and parts[0] in {\"1\", \"4\", \"5\"}:  # Use a set for faster lookup\n",
    "                    parts[0] = \"3\"\n",
    "                print(\" \".join(parts))  # fileinput handles writing back\n",
    "        \n",
    "        with fileinput.input(labelfile, inplace=True) as f:\n",
    "            for line in f:\n",
    "                parts = line.split()\n",
    "                if parts and parts[0] in {\"2\"}:\n",
    "                    parts[0] = \"1\"\n",
    "                print(\" \".join(parts))  # fileinput handles writing back\n",
    "        \n",
    "        with fileinput.input(labelfile, inplace=True) as f:\n",
    "            for line in f:\n",
    "                parts = line.split()\n",
    "                if parts and parts[0] in {\"3\"}:\n",
    "                    parts[0] = \"2\"\n",
    "                print(\" \".join(parts))  # fileinput handles writing back\n",
    "\n",
    "def check_label_distribution(labellist):\n",
    "    # Count the number of each label in the files\n",
    "    label_counts = defaultdict(int)\n",
    "    for labelfile in labellist:\n",
    "        with open(labelfile) as f:\n",
    "            for line in f:\n",
    "                parts = line.split()\n",
    "                if parts:\n",
    "                    label_counts[parts[0]] += 1\n",
    "\n",
    "    # Print the counts\n",
    "    print(\"Label counts:\")\n",
    "    for label, count in label_counts.items():\n",
    "        print(f\"{label}: {count}\")\n",
    "\n"
   ]
  },
  {
   "cell_type": "code",
   "execution_count": 19,
   "metadata": {},
   "outputs": [],
   "source": [
    "ROOT = r\"X:\\doc_layout_analysis\\misc\\2\""
   ]
  },
  {
   "cell_type": "code",
   "execution_count": 20,
   "metadata": {},
   "outputs": [
    {
     "name": "stdout",
     "output_type": "stream",
     "text": [
      "Label counts:\n",
      "3: 5141\n",
      "1: 1499\n",
      "0: 1380\n",
      "2: 3238\n",
      "Label counts:\n",
      "2: 6640\n",
      "0: 1380\n",
      "1: 3238\n"
     ]
    }
   ],
   "source": [
    "def find_dirs(root):\n",
    "    for path, dirs, files in os.walk(root):\n",
    "        if \"images\" in dirs and \"labels\" in dirs:\n",
    "            yield path\n",
    "\n",
    "\n",
    "src_dirs = find_dirs(ROOT)\n",
    "images, labels = [], []\n",
    "for src_dir in src_dirs:\n",
    "    images.extend([os.path.join(src_dir, \"images\", img) for img in os.listdir(os.path.join(src_dir, \"images\"))])\n",
    "    labels.extend([os.path.join(src_dir, \"labels\", lbl) for lbl in os.listdir(os.path.join(src_dir, \"labels\"))])\n",
    "\n",
    "check_label_distribution(labels)\n",
    "change_labels_misc(labels) # ['Checkbox', 'Description', 'Form Field', 'Headline', 'Label', 'Title'] -> ['Checkbox', 'Form Field', 'Text']\n",
    "check_label_distribution(labels)"
   ]
  }
 ],
 "metadata": {
  "kernelspec": {
   "display_name": ".venv",
   "language": "python",
   "name": "python3"
  },
  "language_info": {
   "codemirror_mode": {
    "name": "ipython",
    "version": 3
   },
   "file_extension": ".py",
   "mimetype": "text/x-python",
   "name": "python",
   "nbconvert_exporter": "python",
   "pygments_lexer": "ipython3",
   "version": "3.11.9"
  }
 },
 "nbformat": 4,
 "nbformat_minor": 2
}
