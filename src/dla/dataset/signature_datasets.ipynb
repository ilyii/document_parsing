{
 "cells": [
  {
   "cell_type": "code",
   "execution_count": 51,
   "metadata": {},
   "outputs": [],
   "source": [
    "ROOT = r\"X:\\doc_layout_analysis\\signature\\test\"\n",
    "classes = [\"signature\"]"
   ]
  },
  {
   "cell_type": "code",
   "execution_count": 52,
   "metadata": {},
   "outputs": [],
   "source": [
    "from PIL import Image\n",
    "import cv2\n",
    "import os\n",
    "import matplotlib.pyplot as plt\n",
    "\n",
    "def invert_image(image_path):\n",
    "    image = Image.open(image_path)\n",
    "    inverted_image = Image.eval(image, lambda x: 255 - x)\n",
    "    return inverted_image\n",
    "\n",
    "\n",
    "def read_yolo_labels(label_path):\n",
    "    with open(label_path, 'r') as file:\n",
    "        lines = file.readlines()\n",
    "    labels = []\n",
    "    for line in lines:\n",
    "        class_id, x_center, y_center, width, height = map(float, line.strip().split())\n",
    "        labels.append((int(class_id), x_center, y_center, width, height))\n",
    "    return labels\n",
    "\n",
    "def visualize_image_with_labels(image_path, labels, classes):\n",
    "    image = cv2.imread(image_path)\n",
    "    image = cv2.cvtColor(image, cv2.COLOR_BGR2RGB)\n",
    "    height, width, _ = image.shape\n",
    "    print(labels)\n",
    "    for label in labels:\n",
    "        class_id, x_center, y_center, w, h = label\n",
    "        x_center, y_center, w, h = x_center * width, y_center * height, w * width, h * height\n",
    "        x1, y1, x2, y2 = int(x_center - w / 2), int(y_center - h / 2), int(x_center + w / 2), int(y_center + h / 2)\n",
    "        cv2.rectangle(image, (x1, y1), (x2, y2), (255, 0, 0), 2)\n",
    "        cv2.putText(image, classes[class_id], (x1, y1 - 10), cv2.FONT_HERSHEY_SIMPLEX, 0.9, (255, 0, 0), 2) \n",
    "\n",
    "    return image"
   ]
  },
  {
   "cell_type": "code",
   "execution_count": 53,
   "metadata": {},
   "outputs": [],
   "source": [
    "# for root, dirs, files in os.walk(ROOT.replace(\"train\", \"test\")):\n",
    "#     for file in files:\n",
    "#         if file.endswith(('jpg', 'jpeg', 'png')):\n",
    "#             file_path = os.path.join(root, file)\n",
    "#             image = Image.open(file_path).convert(\"L\")\n",
    "#             histogram = image.histogram()\n",
    "#             black_pixels = histogram[0]\n",
    "#             total_pixels = sum(histogram)\n",
    "#             black_ratio = black_pixels / total_pixels\n",
    "\n",
    "#             # Invert the image if it is mostly black\n",
    "#             if black_ratio > 0.4:\n",
    "#                 inverted_image = invert_image(file_path)\n",
    "#                 inverted_image.save(file_path)\n",
    "\n",
    "# p = r\"\"\n",
    "# invert_image(p).save(p)"
   ]
  },
  {
   "cell_type": "code",
   "execution_count": 54,
   "metadata": {},
   "outputs": [],
   "source": [
    "from collections import defaultdict\n",
    "\n",
    "\n",
    "def delete_labels_per_class(label_path, c):\n",
    "    labels = read_yolo_labels(label_path)\n",
    "    new_labels = [label for label in labels if label[0] != c]\n",
    "    with open(label_path, 'w') as file:\n",
    "        for label in new_labels:\n",
    "            file.write(f\"{label[0]} {label[1]} {label[2]} {label[3]} {label[4]}\\n\")\n",
    "\n",
    "\n",
    "def check_label_distribution(labellist):\n",
    "    # Count the number of each label in the files\n",
    "    label_counts = defaultdict(int)\n",
    "    for labelfile in labellist:\n",
    "        with open(labelfile) as f:\n",
    "            for line in f:\n",
    "                parts = line.split()\n",
    "                if parts:\n",
    "                    label_counts[parts[0]] += 1\n",
    "\n",
    "    # Print the counts\n",
    "    print(\"Label counts:\")\n",
    "    for label, count in label_counts.items():\n",
    "        print(f\"{label}: {count}\")"
   ]
  },
  {
   "cell_type": "code",
   "execution_count": 55,
   "metadata": {},
   "outputs": [
    {
     "name": "stdout",
     "output_type": "stream",
     "text": [
      "Label counts:\n",
      "0: 41\n",
      "1: 5\n",
      "Label counts:\n",
      "0: 41\n"
     ]
    }
   ],
   "source": [
    "image_dir = os.path.join(ROOT, 'images')\n",
    "label_dir = os.path.join(ROOT, 'labels')\n",
    "\n",
    "image_files = [f for f in os.listdir(image_dir) if f.endswith(('jpg', 'png', 'jpeg'))]\n",
    "label_files = [\".\".join(f.split('.')[:-1]) + '.txt' for f in image_files]\n",
    "\n",
    "check_label_distribution([os.path.join(label_dir, f) for f in label_files])\n",
    "\n",
    "for i, (image_file, label_file) in enumerate(zip(image_files, label_files)):\n",
    "    image_path = os.path.join(image_dir, image_file)\n",
    "    label_path = os.path.join(label_dir, label_file)\n",
    "    delete_labels_per_class(label_path, 1)\n",
    "    labels = read_yolo_labels(label_path)\n",
    "    \n",
    "    # vizimg = visualize_image_with_labels(image_path, labels, classes)\n",
    "    # plt.imshow(vizimg)\n",
    "    # plt.show()\n",
    "    # if i == 10:\n",
    "    #     break\n",
    "\n",
    "check_label_distribution([os.path.join(label_dir, f) for f in label_files])"
   ]
  }
 ],
 "metadata": {
  "kernelspec": {
   "display_name": ".venv",
   "language": "python",
   "name": "python3"
  },
  "language_info": {
   "codemirror_mode": {
    "name": "ipython",
    "version": 3
   },
   "file_extension": ".py",
   "mimetype": "text/x-python",
   "name": "python",
   "nbconvert_exporter": "python",
   "pygments_lexer": "ipython3",
   "version": "3.11.9"
  }
 },
 "nbformat": 4,
 "nbformat_minor": 2
}
