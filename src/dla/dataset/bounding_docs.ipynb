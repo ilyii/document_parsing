{
 "cells": [
  {
   "cell_type": "code",
   "execution_count": null,
   "metadata": {},
   "outputs": [
    {
     "name": "stderr",
     "output_type": "stream",
     "text": [
      "c:\\Users\\ihett\\Workspace\\document_parsing\\.venv\\Lib\\site-packages\\tqdm\\auto.py:21: TqdmWarning: IProgress not found. Please update jupyter and ipywidgets. See https://ipywidgets.readthedocs.io/en/stable/user_install.html\n",
      "  from .autonotebook import tqdm as notebook_tqdm\n",
      "c:\\Users\\ihett\\Workspace\\document_parsing\\.venv\\Lib\\site-packages\\huggingface_hub\\file_download.py:142: UserWarning: `huggingface_hub` cache-system uses symlinks by default to efficiently store duplicated files but your machine does not support them in C:\\Users\\ihett\\.cache\\huggingface\\hub\\datasets--letxbe--BoundingDocs. Caching files will still work but in a degraded version that might require more space on your disk. This warning can be disabled by setting the `HF_HUB_DISABLE_SYMLINKS_WARNING` environment variable. For more details, see https://huggingface.co/docs/huggingface_hub/how-to-cache#limitations.\n",
      "To support symlinks on Windows, you either need to activate Developer Mode or to run Python as an administrator. In order to activate developer mode, see this article: https://docs.microsoft.com/en-us/windows/apps/get-started/enable-your-device-for-development\n",
      "  warnings.warn(message)\n",
      "Downloading data:  31%|███       | 120/389 [08:14<2:17:21, 30.64s/files]Error while downloading from https://cdn-lfs-us-1.hf.co/repos/51/b6/51b6388e37f3859c5d384c992879d89b39b3e8c7b282eec4f759b280a29ce3ff/dced9cf49ed6fcd8572aeb6f820419d117184c9d9288aa1e0d9aae3573c358c0?response-content-disposition=inline%3B+filename*%3DUTF-8%27%27train-00120-of-00389.parquet%3B+filename%3D%22train-00120-of-00389.parquet%22%3B&Expires=1742370570&Policy=eyJTdGF0ZW1lbnQiOlt7IkNvbmRpdGlvbiI6eyJEYXRlTGVzc1RoYW4iOnsiQVdTOkVwb2NoVGltZSI6MTc0MjM3MDU3MH19LCJSZXNvdXJjZSI6Imh0dHBzOi8vY2RuLWxmcy11cy0xLmhmLmNvL3JlcG9zLzUxL2I2LzUxYjYzODhlMzdmMzg1OWM1ZDM4NGM5OTI4NzlkODliMzliM2U4YzdiMjgyZWVjNGY3NTliMjgwYTI5Y2UzZmYvZGNlZDljZjQ5ZWQ2ZmNkODU3MmFlYjZmODIwNDE5ZDExNzE4NGM5ZDkyODhhYTFlMGQ5YWFlMzU3M2MzNThjMD9yZXNwb25zZS1jb250ZW50LWRpc3Bvc2l0aW9uPSoifV19&Signature=GuSaks4-8OUiSGuG8c6B9RytSGrJXiur6MXYqJgypweDPBPNPC4kswAqztheCQaeqsa7r1ix2ma5d2jlWLiRxldKWExeaA6qBPrz6lYfLFGMyRMnYR5qa418XAKm7z9YZN9lwaUN2YLqKQCnyM2oAYBcZJC5N5U1ekRJK8yIIR0Rd2Vqq%7EB008AS0Dn0glB5BoEN1X1Rk1%7ESBc8zn5k2C1CAz2mOxefKXzl%7Egj9mpuW4ed%7ENu1zCMhWsy8jJrhp%7EtIbYqmP2dbMloZ0feLaC-1cr5ZcVcr1HIbdLw0SJ1ROLtRVfIXIP%7Ep57F7v1v0N85NjFscb-kiYxUGl-1JvL5g__&Key-Pair-Id=K24J24Z295AEI9: HTTPSConnectionPool(host='cdn-lfs-us-1.hf.co', port=443): Read timed out.\n",
      "Trying to resume download...\n",
      "Downloading data:  39%|███▊      | 150/389 [29:58<2:57:06, 44.46s/files]"
     ]
    }
   ],
   "source": [
    "import datasets\n",
    "from pathlib import Path\n",
    "datasets.config.DOWNLOADED_DATASETS_PATH = Path(r\"C:\\Users\\ihett\\Downloads\")\n",
    "ds = datasets.load_dataset(\"letxbe/BoundingDocs\")"
   ]
  }
 ],
 "metadata": {
  "kernelspec": {
   "display_name": ".venv",
   "language": "python",
   "name": "python3"
  },
  "language_info": {
   "codemirror_mode": {
    "name": "ipython",
    "version": 3
   },
   "file_extension": ".py",
   "mimetype": "text/x-python",
   "name": "python",
   "nbconvert_exporter": "python",
   "pygments_lexer": "ipython3",
   "version": "3.12.2"
  }
 },
 "nbformat": 4,
 "nbformat_minor": 2
}
