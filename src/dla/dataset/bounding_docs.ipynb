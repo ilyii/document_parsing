{
 "cells": [
  {
   "cell_type": "code",
   "execution_count": 3,
   "metadata": {},
   "outputs": [
    {
     "name": "stderr",
     "output_type": "stream",
     "text": [
      "Downloading data: 100%|██████████| 389/389 [1:15:57<00:00, 11.72s/files]\n",
      "Downloading data: 100%|██████████| 48/48 [27:25<00:00, 34.28s/files]\n",
      "Downloading data: 100%|██████████| 49/49 [40:20<00:00, 49.40s/files]   \n",
      "Generating train split: 100%|██████████| 38515/38515 [09:16<00:00, 69.20 examples/s]  \n",
      "Generating validation split: 100%|██████████| 4804/4804 [01:09<00:00, 69.34 examples/s]  \n",
      "Generating test split: 100%|██████████| 4832/4832 [01:11<00:00, 67.80 examples/s]  \n"
     ]
    }
   ],
   "source": [
    "import datasets\n",
    "from pathlib import Path\n",
    "datasets.config.DOWNLOADED_DATASETS_PATH = Path(r\"C:\\Users\\ihett\\Downloads\")\n",
    "ds = datasets.load_dataset(\"letxbe/BoundingDocs\")"
   ]
  }
 ],
 "metadata": {
  "kernelspec": {
   "display_name": ".venv",
   "language": "python",
   "name": "python3"
  },
  "language_info": {
   "codemirror_mode": {
    "name": "ipython",
    "version": 3
   },
   "file_extension": ".py",
   "mimetype": "text/x-python",
   "name": "python",
   "nbconvert_exporter": "python",
   "pygments_lexer": "ipython3",
   "version": "3.11.9"
  }
 },
 "nbformat": 4,
 "nbformat_minor": 2
}
